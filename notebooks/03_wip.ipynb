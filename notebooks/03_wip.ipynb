{
 "cells": [
  {
   "cell_type": "code",
   "execution_count": 1,
   "metadata": {},
   "outputs": [],
   "source": [
    "# import pandas as pd\n",
    "# import torch.utils.data"
   ]
  },
  {
   "cell_type": "code",
   "execution_count": 1,
   "metadata": {},
   "outputs": [],
   "source": [
    "# Importing lemoncake package - to be able to import code that does not need changing\n",
    "import sys\n",
    "sys.path.append('../') "
   ]
  },
  {
   "cell_type": "code",
   "execution_count": 2,
   "metadata": {},
   "outputs": [],
   "source": [
    "from lemoncake.data import get_datasets, get_dataloaders"
   ]
  },
  {
   "cell_type": "code",
   "execution_count": 3,
   "metadata": {},
   "outputs": [],
   "source": [
    "train_ds, val_ds, test_ds = get_datasets()"
   ]
  },
  {
   "cell_type": "code",
   "execution_count": 4,
   "metadata": {},
   "outputs": [
    {
     "data": {
      "text/plain": [
       "{'Atelectasis': 14336.0,\n",
       " 'Cardiomegaly': 15279.0,\n",
       " 'Consolidation': 3558.0,\n",
       " 'Edema': 10310.0,\n",
       " 'Enlarged Cardiomediastinum': 2309.0,\n",
       " 'Fracture': 508.0,\n",
       " 'Lung Lesion': 860.0,\n",
       " 'Lung Opacity': 13235.0,\n",
       " 'No Finding': 5013.0,\n",
       " 'Pleural Effusion': 20322.0,\n",
       " 'Pleural Other': 305.0,\n",
       " 'Pneumonia': 3730.0,\n",
       " 'Pneumothorax': 2902.0}"
      ]
     },
     "execution_count": 4,
     "metadata": {},
     "output_type": "execute_result"
    }
   ],
   "source": [
    "train_ds.label_counts"
   ]
  },
  {
   "cell_type": "code",
   "execution_count": 5,
   "metadata": {},
   "outputs": [
    {
     "data": {
      "text/plain": [
       "43738"
      ]
     },
     "execution_count": 5,
     "metadata": {},
     "output_type": "execute_result"
    }
   ],
   "source": [
    "len(train_ds)"
   ]
  },
  {
   "cell_type": "code",
   "execution_count": 6,
   "metadata": {},
   "outputs": [
    {
     "data": {
      "text/plain": [
       "(tensor([  2.,   2.,  11.,   3.,  18.,  85.,  50.,   2.,   8.,   1., 142.,  11.,\n",
       "          14.]),\n",
       " tensor([ 3.,  2., 20.,  3., 22., inf, 39.,  2.,  8.,  2., 52.,  9., 10.]),\n",
       " tensor([ 1.,  2., 16.,  2., 14., 75., 46.,  2., 13.,  1., 82., 10., 19.]))"
      ]
     },
     "execution_count": 6,
     "metadata": {},
     "output_type": "execute_result"
    }
   ],
   "source": [
    "train_ds.get_pos_weights(), val_ds.get_pos_weights(), test_ds.get_pos_weights()"
   ]
  },
  {
   "cell_type": "code",
   "execution_count": 7,
   "metadata": {},
   "outputs": [],
   "source": [
    "dls = get_dataloaders({'train': train_ds, 'valid': val_ds, 'test': test_ds}, batch_size=32)"
   ]
  },
  {
   "cell_type": "code",
   "execution_count": 8,
   "metadata": {},
   "outputs": [],
   "source": [
    "train_dl, valid_dl, test_dl = dls['train'], dls['valid'], dls['test']"
   ]
  },
  {
   "cell_type": "code",
   "execution_count": 9,
   "metadata": {},
   "outputs": [],
   "source": [
    "# batch = next(iter(train_dl))\n",
    "# x, y = batch['x'], batch['y']\n",
    "# x.shape, y.shape"
   ]
  },
  {
   "cell_type": "markdown",
   "metadata": {},
   "source": [
    "# Lightning Models "
   ]
  },
  {
   "cell_type": "code",
   "execution_count": 19,
   "metadata": {},
   "outputs": [],
   "source": [
    "from lemoncake.model import *\n",
    "from pytorch_lightning import Trainer, seed_everything"
   ]
  },
  {
   "cell_type": "code",
   "execution_count": 20,
   "metadata": {},
   "outputs": [],
   "source": [
    "model = MultimodalBERT(\n",
    "    train_ds.get_pos_weights(),\n",
    "    val_ds.get_pos_weights(),\n",
    "    hidden=384,\n",
    "    n_layers=6,\n",
    "    attn_heads=6,\n",
    ")"
   ]
  },
  {
   "cell_type": "markdown",
   "metadata": {},
   "source": [
    "## Initializing Weights"
   ]
  },
  {
   "cell_type": "markdown",
   "metadata": {},
   "source": [
    "- Karpathy's \n",
    "    - [Coment about init in the README](https://github.com/karpathy/ng-video-lecture)\n",
    "    - [nanoGPT init](https://github.com/karpathy/nanoGPT/blob/a82b33b525ca9855d705656387698e13eb8e8d4b/model.py#L147)\n",
    "- StackExchange - [Is there a proper initialization technique for the weight matrices in multi-head attention?](https://ai.stackexchange.com/questions/30491/is-there-a-proper-initialization-technique-for-the-weight-matrices-in-multi-head)"
   ]
  },
  {
   "cell_type": "code",
   "execution_count": 16,
   "metadata": {},
   "outputs": [
    {
     "data": {
      "text/plain": [
       "MultimodalBERT(\n",
       "  (train_loss_fn): BCEWithLogitsLoss()\n",
       "  (valid_loss_fn): BCEWithLogitsLoss()\n",
       "  (preprocessor): VectorPreProcessor(\n",
       "    (linear): Linear(in_features=4041, out_features=98304, bias=True)\n",
       "  )\n",
       "  (bert): BERT(\n",
       "    (encoder): TransformerEncoder(\n",
       "      (layers): ModuleList(\n",
       "        (0-5): 6 x TransformerEncoderLayer(\n",
       "          (self_attn): MultiheadAttention(\n",
       "            (out_proj): NonDynamicallyQuantizableLinear(in_features=384, out_features=384, bias=True)\n",
       "          )\n",
       "          (linear1): Linear(in_features=384, out_features=1536, bias=True)\n",
       "          (dropout): Dropout(p=0.1, inplace=False)\n",
       "          (linear2): Linear(in_features=1536, out_features=384, bias=True)\n",
       "          (norm1): LayerNorm((384,), eps=1e-05, elementwise_affine=True)\n",
       "          (norm2): LayerNorm((384,), eps=1e-05, elementwise_affine=True)\n",
       "          (dropout1): Dropout(p=0.1, inplace=False)\n",
       "          (dropout2): Dropout(p=0.1, inplace=False)\n",
       "        )\n",
       "      )\n",
       "    )\n",
       "  )\n",
       "  (predictor): MultiLabelPredictor(\n",
       "    (linear): Linear(in_features=384, out_features=13, bias=True)\n",
       "  )\n",
       ")"
      ]
     },
     "execution_count": 16,
     "metadata": {},
     "output_type": "execute_result"
    }
   ],
   "source": [
    "model"
   ]
  },
  {
   "cell_type": "markdown",
   "metadata": {},
   "source": [
    "### fastai Method"
   ]
  },
  {
   "cell_type": "code",
   "execution_count": 35,
   "metadata": {},
   "outputs": [],
   "source": [
    "thelist = []"
   ]
  },
  {
   "cell_type": "code",
   "execution_count": 40,
   "metadata": {},
   "outputs": [],
   "source": [
    "def init_multimodalbert(m, initrange, zero_bn=False):\n",
    "    \"\"\"Initialize Multimodal BERT.\"\"\"\n",
    "\n",
    "    # if isinstance(m, (nn.Embedding, nn.EmbeddingBag)):\n",
    "    #     # m.weight.data.uniform_(-initrange, initrange)\n",
    "    #     thelist.append(f\"Initialized {m} with uniform_(-{initrange}, {initrange})\")\n",
    "    if isinstance(m, nn.Linear):\n",
    "        for name, param in m.named_parameters():\n",
    "            if \"bias\" in name:\n",
    "                # nn.init.constant_(param, 0.0)\n",
    "                thelist.append(f\"Initialized {name} with constant_(0.0)\")\n",
    "            elif \"weight\" in name:\n",
    "                # nn.init.kaiming_normal_(param)\n",
    "                thelist.append(f\"Initialized {name} with kaiming_normal_()\")\n",
    "    # if isinstance(m, (nn.BatchNorm1d)):\n",
    "    #     # nn.init.constant_(m.weight, 0.0 if zero_bn else 1.0)\n",
    "    #     thelist.append(f\"Initialized {m} with constant_(0.0 if {zero_bn} else 1.0)\")\n",
    "    for l in m.children():\n",
    "        init_multimodalbert(l, initrange, zero_bn)\n",
    "\n"
   ]
  },
  {
   "cell_type": "code",
   "execution_count": 41,
   "metadata": {},
   "outputs": [],
   "source": [
    "init_multimodalbert(model, 0.02, zero_bn=True)"
   ]
  },
  {
   "cell_type": "code",
   "execution_count": 42,
   "metadata": {},
   "outputs": [
    {
     "data": {
      "text/plain": [
       "152"
      ]
     },
     "execution_count": 42,
     "metadata": {},
     "output_type": "execute_result"
    }
   ],
   "source": [
    "len(thelist)"
   ]
  },
  {
   "cell_type": "markdown",
   "metadata": {},
   "source": [
    "### Karpathy Method"
   ]
  },
  {
   "cell_type": "code",
   "execution_count": 46,
   "metadata": {},
   "outputs": [
    {
     "name": "stdout",
     "output_type": "stream",
     "text": [
      "bert.encoder.layers.0.self_attn.out_proj.weight torch.Size([384, 384])\n",
      "bert.encoder.layers.1.self_attn.out_proj.weight torch.Size([384, 384])\n",
      "bert.encoder.layers.2.self_attn.out_proj.weight torch.Size([384, 384])\n",
      "bert.encoder.layers.3.self_attn.out_proj.weight torch.Size([384, 384])\n",
      "bert.encoder.layers.4.self_attn.out_proj.weight torch.Size([384, 384])\n",
      "bert.encoder.layers.5.self_attn.out_proj.weight torch.Size([384, 384])\n"
     ]
    }
   ],
   "source": [
    "    # def _init_weights(self, module):\n",
    "    #         if isinstance(module, nn.Linear):\n",
    "    #             # torch.nn.init.normal_(module.weight, mean=0.0, std=0.02)\n",
    "    #             nn.init.kaiming_normal_(module.weight)\n",
    "    #             if module.bias is not None:\n",
    "    #                 torch.nn.init.zeros_(module.bias)\n",
    "    #         # elif isinstance(module, nn.Embedding):\n",
    "    #         #     torch.nn.init.normal_(module.weight, mean=0.0, std=0.02)\n",
    "\n",
    "for name, param in model.named_parameters():\n",
    "    if name.endswith('proj.weight'):\n",
    "        print(name, param.shape)"
   ]
  },
  {
   "cell_type": "markdown",
   "metadata": {},
   "source": [
    "## Train"
   ]
  },
  {
   "cell_type": "code",
   "execution_count": 21,
   "metadata": {},
   "outputs": [
    {
     "name": "stderr",
     "output_type": "stream",
     "text": [
      "Global seed set to 42\n",
      "Using 16bit Automatic Mixed Precision (AMP)\n",
      "Using 16bit Automatic Mixed Precision (AMP)\n",
      "GPU available: True (cuda), used: True\n",
      "TPU available: False, using: 0 TPU cores\n",
      "IPU available: False, using: 0 IPUs\n",
      "HPU available: False, using: 0 HPUs\n"
     ]
    }
   ],
   "source": [
    "seed_everything(42, workers=True)\n",
    "trainer = Trainer(max_epochs=10, precision='16-mixed')"
   ]
  },
  {
   "cell_type": "code",
   "execution_count": 22,
   "metadata": {},
   "outputs": [
    {
     "name": "stderr",
     "output_type": "stream",
     "text": [
      "LOCAL_RANK: 0 - CUDA_VISIBLE_DEVICES: [0]\n",
      "\n",
      "  | Name          | Type                | Params\n",
      "------------------------------------------------------\n",
      "0 | train_loss_fn | BCEWithLogitsLoss   | 0     \n",
      "1 | valid_loss_fn | BCEWithLogitsLoss   | 0     \n",
      "2 | preprocessor  | VectorPreProcessor  | 397 M \n",
      "3 | bert          | BERT                | 10.6 M\n",
      "4 | predictor     | MultiLabelPredictor | 5.0 K \n",
      "------------------------------------------------------\n",
      "407 M     Trainable params\n",
      "0         Non-trainable params\n",
      "407 M     Total params\n",
      "1,631.986 Total estimated model params size (MB)\n"
     ]
    },
    {
     "data": {
      "application/vnd.jupyter.widget-view+json": {
       "model_id": "2786ec4215e24dba85a3c6cc970903b4",
       "version_major": 2,
       "version_minor": 0
      },
      "text/plain": [
       "Sanity Checking: 0it [00:00, ?it/s]"
      ]
     },
     "metadata": {},
     "output_type": "display_data"
    },
    {
     "data": {
      "application/vnd.jupyter.widget-view+json": {
       "model_id": "52c8d835c74c402abdae7bc7ab929a29",
       "version_major": 2,
       "version_minor": 0
      },
      "text/plain": [
       "Training: 0it [00:00, ?it/s]"
      ]
     },
     "metadata": {},
     "output_type": "display_data"
    },
    {
     "data": {
      "application/vnd.jupyter.widget-view+json": {
       "model_id": "b0181decab8746d695354848a74f5316",
       "version_major": 2,
       "version_minor": 0
      },
      "text/plain": [
       "Validation: 0it [00:00, ?it/s]"
      ]
     },
     "metadata": {},
     "output_type": "display_data"
    },
    {
     "data": {
      "application/vnd.jupyter.widget-view+json": {
       "model_id": "377f4cdeb3944298a4666a23e52b8ac2",
       "version_major": 2,
       "version_minor": 0
      },
      "text/plain": [
       "Validation: 0it [00:00, ?it/s]"
      ]
     },
     "metadata": {},
     "output_type": "display_data"
    },
    {
     "data": {
      "application/vnd.jupyter.widget-view+json": {
       "model_id": "9c151eac4bd04790b08e49cbe3efac7b",
       "version_major": 2,
       "version_minor": 0
      },
      "text/plain": [
       "Validation: 0it [00:00, ?it/s]"
      ]
     },
     "metadata": {},
     "output_type": "display_data"
    },
    {
     "data": {
      "application/vnd.jupyter.widget-view+json": {
       "model_id": "76a02eaa6530480a8c9778a61fcf531d",
       "version_major": 2,
       "version_minor": 0
      },
      "text/plain": [
       "Validation: 0it [00:00, ?it/s]"
      ]
     },
     "metadata": {},
     "output_type": "display_data"
    },
    {
     "data": {
      "application/vnd.jupyter.widget-view+json": {
       "model_id": "1b2769dc93294db6be61b248f7122f6b",
       "version_major": 2,
       "version_minor": 0
      },
      "text/plain": [
       "Validation: 0it [00:00, ?it/s]"
      ]
     },
     "metadata": {},
     "output_type": "display_data"
    },
    {
     "data": {
      "application/vnd.jupyter.widget-view+json": {
       "model_id": "1d1ef7ff88af48daa79482430ea7984d",
       "version_major": 2,
       "version_minor": 0
      },
      "text/plain": [
       "Validation: 0it [00:00, ?it/s]"
      ]
     },
     "metadata": {},
     "output_type": "display_data"
    },
    {
     "data": {
      "application/vnd.jupyter.widget-view+json": {
       "model_id": "139695ce0e6541989fecb4f59fd9cfe6",
       "version_major": 2,
       "version_minor": 0
      },
      "text/plain": [
       "Validation: 0it [00:00, ?it/s]"
      ]
     },
     "metadata": {},
     "output_type": "display_data"
    },
    {
     "data": {
      "application/vnd.jupyter.widget-view+json": {
       "model_id": "b950d9a514bd4228a59a757e0d7d464c",
       "version_major": 2,
       "version_minor": 0
      },
      "text/plain": [
       "Validation: 0it [00:00, ?it/s]"
      ]
     },
     "metadata": {},
     "output_type": "display_data"
    },
    {
     "data": {
      "application/vnd.jupyter.widget-view+json": {
       "model_id": "122e8241729f4f0483a2f55a292fd41d",
       "version_major": 2,
       "version_minor": 0
      },
      "text/plain": [
       "Validation: 0it [00:00, ?it/s]"
      ]
     },
     "metadata": {},
     "output_type": "display_data"
    },
    {
     "data": {
      "application/vnd.jupyter.widget-view+json": {
       "model_id": "453794cb38504c96b37fada17b2e30ba",
       "version_major": 2,
       "version_minor": 0
      },
      "text/plain": [
       "Validation: 0it [00:00, ?it/s]"
      ]
     },
     "metadata": {},
     "output_type": "display_data"
    },
    {
     "name": "stderr",
     "output_type": "stream",
     "text": [
      "`Trainer.fit` stopped: `max_epochs=10` reached.\n"
     ]
    }
   ],
   "source": [
    "trainer.fit(model, train_dl, valid_dl)"
   ]
  },
  {
   "cell_type": "code",
   "execution_count": null,
   "metadata": {},
   "outputs": [],
   "source": []
  },
  {
   "cell_type": "markdown",
   "metadata": {},
   "source": [
    "# Open Issues / Questions"
   ]
  },
  {
   "cell_type": "markdown",
   "metadata": {},
   "source": [
    "1. train, valid, test split\n",
    "2. What to do about \"-1\" in labels\n",
    "    - currently doing `y = y.fillna(0).replace(-1, 0)`\n",
    "    - i.e. replacing `NaN` and `-1` with zeros\n",
    "    - According to the HAIM paper - `-1` is not determined and they have eliminated everything other than 1 and 0 in their training.\n",
    "3. Model size options"
   ]
  },
  {
   "cell_type": "markdown",
   "metadata": {},
   "source": []
  }
 ],
 "metadata": {
  "kernelspec": {
   "display_name": "lemoncake",
   "language": "python",
   "name": "python3"
  },
  "language_info": {
   "codemirror_mode": {
    "name": "ipython",
    "version": 3
   },
   "file_extension": ".py",
   "mimetype": "text/x-python",
   "name": "python",
   "nbconvert_exporter": "python",
   "pygments_lexer": "ipython3",
   "version": "3.10.11"
  },
  "orig_nbformat": 4
 },
 "nbformat": 4,
 "nbformat_minor": 2
}
